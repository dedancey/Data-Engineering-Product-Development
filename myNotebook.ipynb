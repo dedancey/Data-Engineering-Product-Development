{
 "cells": [
  {
   "cell_type": "code",
   "execution_count": 107,
   "metadata": {},
   "outputs": [],
   "source": [
    "import pandas as pd"
   ]
  },
  {
   "cell_type": "code",
   "execution_count": 108,
   "metadata": {},
   "outputs": [],
   "source": [
    "df = pd.read_csv(r\"C:\\Users\\Admin\\Desktop\\Data-Engineering-Product-Development\\python_app\\03_Library Systembook.csv\")"
   ]
  },
  {
   "cell_type": "code",
   "execution_count": 109,
   "metadata": {},
   "outputs": [],
   "source": [
    "df2 = pd.read_csv(r\"C:\\Users\\Admin\\Desktop\\Data-Engineering-Product-Development\\python_app\\03_Library SystemCustomers.csv\")"
   ]
  },
  {
   "cell_type": "code",
   "execution_count": 110,
   "metadata": {},
   "outputs": [
    {
     "name": "stdout",
     "output_type": "stream",
     "text": [
      "    Id                                     Books Book checkout Book Returned  \\\n",
      "0  1.0                       Catcher in the Rye   \"20/02/2023\"    25/02/2023   \n",
      "1  2.0          Lord of the rings the two towers  \"24/03/2023\"    21/03/2023   \n",
      "2  3.0  Lord of the rings the return of the kind  \"29/03/2023\"    25/03/2023   \n",
      "3  4.0                                The hobbit  \"02/04/2023\"    25/03/2023   \n",
      "4  5.0                                     Dune   \"02/04/2023\"    25/03/2023   \n",
      "\n",
      "  Days allowed to borrow  Customer ID  \n",
      "0                2 weeks          1.0  \n",
      "1                2 weeks          2.0  \n",
      "2                2 weeks          3.0  \n",
      "3                2 weeks          4.0  \n",
      "4                2 weeks          5.0  \n"
     ]
    }
   ],
   "source": [
    "print(df.head())"
   ]
  },
  {
   "cell_type": "code",
   "execution_count": 111,
   "metadata": {},
   "outputs": [
    {
     "name": "stdout",
     "output_type": "stream",
     "text": [
      "   Customer ID   Customer Name\n",
      "0          1.0        Jane Doe\n",
      "1          2.0      John Smith\n",
      "2          3.0      Dan Reeves\n",
      "3          NaN             NaN\n",
      "4          5.0  William Holden\n"
     ]
    }
   ],
   "source": [
    "print(df2.head())"
   ]
  },
  {
   "cell_type": "code",
   "execution_count": 112,
   "metadata": {},
   "outputs": [],
   "source": [
    "df.dropna(how=\"all\",inplace=True)"
   ]
  },
  {
   "cell_type": "code",
   "execution_count": 113,
   "metadata": {},
   "outputs": [],
   "source": [
    "df.drop_duplicates(inplace=True)"
   ]
  },
  {
   "cell_type": "code",
   "execution_count": 114,
   "metadata": {},
   "outputs": [
    {
     "name": "stdout",
     "output_type": "stream",
     "text": [
      "      Id                                     Books Book checkout  \\\n",
      "0    1.0                       Catcher in the Rye   \"20/02/2023\"   \n",
      "1    2.0          Lord of the rings the two towers  \"24/03/2023\"   \n",
      "2    3.0  Lord of the rings the return of the kind  \"29/03/2023\"   \n",
      "3    4.0                                The hobbit  \"02/04/2023\"   \n",
      "4    5.0                                     Dune   \"02/04/2023\"   \n",
      "5    6.0                              Little Women  \"02/04/2023\"   \n",
      "6    7.0                                        IT  \"10/04/2063\"   \n",
      "7    8.0                                   Misery   \"15/04/2023\"   \n",
      "8    9.0                                  Catch 22  \"15/04/2023\"   \n",
      "9   10.0                              Animal Farm   \"20/04/2023\"   \n",
      "10  11.0                                      1984  \"23/04/2023\"   \n",
      "11  12.0                              Little Women  \"02/04/2023\"   \n",
      "12  13.0                              East of Eden  \"30/04/2023\"   \n",
      "13  14.0                   America Is in the Heart  \"01/05/2023\"   \n",
      "14  15.0                         Wuthering Heights  \"01/05/2023\"   \n",
      "15  16.0                                Dark Tales  \"15/05/2023\"   \n",
      "16  17.0                        The Bloody Chamber  \"32/05/2023\"   \n",
      "17  18.0                            Les Miserables  \"03/06/2023\"   \n",
      "18  19.0                                   Dracula  \"10/06/2023\"   \n",
      "19  20.0                              Frankenstein  \"01/06/2023\"   \n",
      "20  21.0                                       NaN  \"01/06/2023\"   \n",
      "\n",
      "   Book Returned Days allowed to borrow  Customer ID  \n",
      "0     25/02/2023                2 weeks          1.0  \n",
      "1     21/03/2023                2 weeks          2.0  \n",
      "2     25/03/2023                2 weeks          3.0  \n",
      "3     25/03/2023                2 weeks          4.0  \n",
      "4     25/03/2023                2 weeks          5.0  \n",
      "5     01/05/2023                2 weeks          1.0  \n",
      "6     03/04/2023                2 weeks          6.0  \n",
      "7     03/04/2023                2 weeks          7.0  \n",
      "8     16/04/2023                2 weeks          7.0  \n",
      "9     24/04/2023                2 weeks          2.0  \n",
      "10    27/04/2023                2 weeks          8.0  \n",
      "11    01/05/2023                2 weeks          1.0  \n",
      "12    05/05/2023                2 weeks          2.0  \n",
      "13    07/05/2023                2 weeks          3.0  \n",
      "14    10/05/2023                2 weeks          9.0  \n",
      "15    01/06/2023                2 weeks          2.0  \n",
      "16    04/06/2023                2 weeks          3.0  \n",
      "17    07/06/2023                2 weeks          5.0  \n",
      "18    10/07/2023                2 weeks         10.0  \n",
      "19    20/06/2023                2 weeks          2.0  \n",
      "20    05/06/2023                2 weeks          NaN  \n"
     ]
    }
   ],
   "source": [
    "print(df)"
   ]
  },
  {
   "cell_type": "code",
   "execution_count": 115,
   "metadata": {},
   "outputs": [],
   "source": [
    "df2.dropna(how=\"all\",inplace=True)"
   ]
  },
  {
   "cell_type": "code",
   "execution_count": 116,
   "metadata": {},
   "outputs": [],
   "source": [
    "df2.dropna(subset=[\"Customer ID\",\"Customer Name\"], inplace=True)"
   ]
  },
  {
   "cell_type": "code",
   "execution_count": 117,
   "metadata": {},
   "outputs": [],
   "source": [
    "df2.drop_duplicates(inplace=True)"
   ]
  },
  {
   "cell_type": "code",
   "execution_count": 118,
   "metadata": {},
   "outputs": [
    {
     "name": "stdout",
     "output_type": "stream",
     "text": [
      "   Customer ID   Customer Name\n",
      "0          1.0        Jane Doe\n",
      "1          2.0      John Smith\n",
      "2          3.0      Dan Reeves\n",
      "4          5.0  William Holden\n",
      "5          6.0   Jaztyn Forest\n"
     ]
    }
   ],
   "source": [
    "print(df2.head())"
   ]
  },
  {
   "cell_type": "code",
   "execution_count": 119,
   "metadata": {},
   "outputs": [],
   "source": [
    "df.reset_index(drop=True, inplace=True)"
   ]
  },
  {
   "cell_type": "code",
   "execution_count": 120,
   "metadata": {},
   "outputs": [],
   "source": [
    "df2.reset_index(drop=True, inplace=True)"
   ]
  },
  {
   "cell_type": "code",
   "execution_count": 121,
   "metadata": {},
   "outputs": [
    {
     "name": "stdout",
     "output_type": "stream",
     "text": [
      "      Id                                     Books Book checkout  \\\n",
      "0    1.0                       Catcher in the Rye   \"20/02/2023\"   \n",
      "1    2.0          Lord of the rings the two towers  \"24/03/2023\"   \n",
      "2    3.0  Lord of the rings the return of the kind  \"29/03/2023\"   \n",
      "3    4.0                                The hobbit  \"02/04/2023\"   \n",
      "4    5.0                                     Dune   \"02/04/2023\"   \n",
      "5    6.0                              Little Women  \"02/04/2023\"   \n",
      "6    7.0                                        IT  \"10/04/2063\"   \n",
      "7    8.0                                   Misery   \"15/04/2023\"   \n",
      "8    9.0                                  Catch 22  \"15/04/2023\"   \n",
      "9   10.0                              Animal Farm   \"20/04/2023\"   \n",
      "10  11.0                                      1984  \"23/04/2023\"   \n",
      "11  12.0                              Little Women  \"02/04/2023\"   \n",
      "12  13.0                              East of Eden  \"30/04/2023\"   \n",
      "13  14.0                   America Is in the Heart  \"01/05/2023\"   \n",
      "14  15.0                         Wuthering Heights  \"01/05/2023\"   \n",
      "15  16.0                                Dark Tales  \"15/05/2023\"   \n",
      "16  17.0                        The Bloody Chamber  \"32/05/2023\"   \n",
      "17  18.0                            Les Miserables  \"03/06/2023\"   \n",
      "18  19.0                                   Dracula  \"10/06/2023\"   \n",
      "19  20.0                              Frankenstein  \"01/06/2023\"   \n",
      "20  21.0                                       NaN  \"01/06/2023\"   \n",
      "\n",
      "   Book Returned Days allowed to borrow  Customer ID  \n",
      "0     25/02/2023                2 weeks          1.0  \n",
      "1     21/03/2023                2 weeks          2.0  \n",
      "2     25/03/2023                2 weeks          3.0  \n",
      "3     25/03/2023                2 weeks          4.0  \n",
      "4     25/03/2023                2 weeks          5.0  \n",
      "5     01/05/2023                2 weeks          1.0  \n",
      "6     03/04/2023                2 weeks          6.0  \n",
      "7     03/04/2023                2 weeks          7.0  \n",
      "8     16/04/2023                2 weeks          7.0  \n",
      "9     24/04/2023                2 weeks          2.0  \n",
      "10    27/04/2023                2 weeks          8.0  \n",
      "11    01/05/2023                2 weeks          1.0  \n",
      "12    05/05/2023                2 weeks          2.0  \n",
      "13    07/05/2023                2 weeks          3.0  \n",
      "14    10/05/2023                2 weeks          9.0  \n",
      "15    01/06/2023                2 weeks          2.0  \n",
      "16    04/06/2023                2 weeks          3.0  \n",
      "17    07/06/2023                2 weeks          5.0  \n",
      "18    10/07/2023                2 weeks         10.0  \n",
      "19    20/06/2023                2 weeks          2.0  \n",
      "20    05/06/2023                2 weeks          NaN  \n"
     ]
    }
   ],
   "source": [
    "print(df)\n"
   ]
  },
  {
   "cell_type": "code",
   "execution_count": 122,
   "metadata": {},
   "outputs": [],
   "source": [
    "df.dropna(subset=[\"Books\"], inplace=True)"
   ]
  },
  {
   "cell_type": "code",
   "execution_count": 123,
   "metadata": {},
   "outputs": [
    {
     "name": "stdout",
     "output_type": "stream",
     "text": [
      "      Id                                     Books Book checkout  \\\n",
      "0    1.0                       Catcher in the Rye   \"20/02/2023\"   \n",
      "1    2.0          Lord of the rings the two towers  \"24/03/2023\"   \n",
      "2    3.0  Lord of the rings the return of the kind  \"29/03/2023\"   \n",
      "3    4.0                                The hobbit  \"02/04/2023\"   \n",
      "4    5.0                                     Dune   \"02/04/2023\"   \n",
      "5    6.0                              Little Women  \"02/04/2023\"   \n",
      "6    7.0                                        IT  \"10/04/2063\"   \n",
      "7    8.0                                   Misery   \"15/04/2023\"   \n",
      "8    9.0                                  Catch 22  \"15/04/2023\"   \n",
      "9   10.0                              Animal Farm   \"20/04/2023\"   \n",
      "10  11.0                                      1984  \"23/04/2023\"   \n",
      "11  12.0                              Little Women  \"02/04/2023\"   \n",
      "12  13.0                              East of Eden  \"30/04/2023\"   \n",
      "13  14.0                   America Is in the Heart  \"01/05/2023\"   \n",
      "14  15.0                         Wuthering Heights  \"01/05/2023\"   \n",
      "15  16.0                                Dark Tales  \"15/05/2023\"   \n",
      "16  17.0                        The Bloody Chamber  \"32/05/2023\"   \n",
      "17  18.0                            Les Miserables  \"03/06/2023\"   \n",
      "18  19.0                                   Dracula  \"10/06/2023\"   \n",
      "19  20.0                              Frankenstein  \"01/06/2023\"   \n",
      "\n",
      "   Book Returned Days allowed to borrow  Customer ID  \n",
      "0     25/02/2023                2 weeks          1.0  \n",
      "1     21/03/2023                2 weeks          2.0  \n",
      "2     25/03/2023                2 weeks          3.0  \n",
      "3     25/03/2023                2 weeks          4.0  \n",
      "4     25/03/2023                2 weeks          5.0  \n",
      "5     01/05/2023                2 weeks          1.0  \n",
      "6     03/04/2023                2 weeks          6.0  \n",
      "7     03/04/2023                2 weeks          7.0  \n",
      "8     16/04/2023                2 weeks          7.0  \n",
      "9     24/04/2023                2 weeks          2.0  \n",
      "10    27/04/2023                2 weeks          8.0  \n",
      "11    01/05/2023                2 weeks          1.0  \n",
      "12    05/05/2023                2 weeks          2.0  \n",
      "13    07/05/2023                2 weeks          3.0  \n",
      "14    10/05/2023                2 weeks          9.0  \n",
      "15    01/06/2023                2 weeks          2.0  \n",
      "16    04/06/2023                2 weeks          3.0  \n",
      "17    07/06/2023                2 weeks          5.0  \n",
      "18    10/07/2023                2 weeks         10.0  \n",
      "19    20/06/2023                2 weeks          2.0  \n"
     ]
    }
   ],
   "source": [
    "print(df)"
   ]
  },
  {
   "cell_type": "code",
   "execution_count": 124,
   "metadata": {},
   "outputs": [
    {
     "name": "stdout",
     "output_type": "stream",
     "text": [
      "object\n"
     ]
    }
   ],
   "source": [
    "print(df[\"Book checkout\"].dtype)"
   ]
  },
  {
   "cell_type": "code",
   "execution_count": 125,
   "metadata": {},
   "outputs": [
    {
     "name": "stdout",
     "output_type": "stream",
     "text": [
      "object\n"
     ]
    }
   ],
   "source": [
    "print(df[\"Book Returned\"].dtype)"
   ]
  },
  {
   "cell_type": "code",
   "execution_count": 126,
   "metadata": {},
   "outputs": [
    {
     "name": "stdout",
     "output_type": "stream",
     "text": [
      "object\n"
     ]
    }
   ],
   "source": [
    "print(df[\"Book checkout\"].dtype)"
   ]
  },
  {
   "cell_type": "code",
   "execution_count": 131,
   "metadata": {},
   "outputs": [],
   "source": [
    "df[\"Book checkout\"] = df[\"Book checkout\"].str.strip('\"')"
   ]
  },
  {
   "cell_type": "code",
   "execution_count": 128,
   "metadata": {},
   "outputs": [
    {
     "name": "stdout",
     "output_type": "stream",
     "text": [
      "      Id                                     Books Book checkout  \\\n",
      "0    1.0                       Catcher in the Rye     20/02/2023   \n",
      "1    2.0          Lord of the rings the two towers    24/03/2023   \n",
      "2    3.0  Lord of the rings the return of the kind    29/03/2023   \n",
      "3    4.0                                The hobbit    02/04/2023   \n",
      "4    5.0                                     Dune     02/04/2023   \n",
      "5    6.0                              Little Women    02/04/2023   \n",
      "6    7.0                                        IT    10/04/2063   \n",
      "7    8.0                                   Misery     15/04/2023   \n",
      "8    9.0                                  Catch 22    15/04/2023   \n",
      "9   10.0                              Animal Farm     20/04/2023   \n",
      "10  11.0                                      1984    23/04/2023   \n",
      "11  12.0                              Little Women    02/04/2023   \n",
      "12  13.0                              East of Eden    30/04/2023   \n",
      "13  14.0                   America Is in the Heart    01/05/2023   \n",
      "14  15.0                         Wuthering Heights    01/05/2023   \n",
      "15  16.0                                Dark Tales    15/05/2023   \n",
      "16  17.0                        The Bloody Chamber    32/05/2023   \n",
      "17  18.0                            Les Miserables    03/06/2023   \n",
      "18  19.0                                   Dracula    10/06/2023   \n",
      "19  20.0                              Frankenstein    01/06/2023   \n",
      "\n",
      "   Book Returned Days allowed to borrow  Customer ID  \n",
      "0     25/02/2023                2 weeks          1.0  \n",
      "1     21/03/2023                2 weeks          2.0  \n",
      "2     25/03/2023                2 weeks          3.0  \n",
      "3     25/03/2023                2 weeks          4.0  \n",
      "4     25/03/2023                2 weeks          5.0  \n",
      "5     01/05/2023                2 weeks          1.0  \n",
      "6     03/04/2023                2 weeks          6.0  \n",
      "7     03/04/2023                2 weeks          7.0  \n",
      "8     16/04/2023                2 weeks          7.0  \n",
      "9     24/04/2023                2 weeks          2.0  \n",
      "10    27/04/2023                2 weeks          8.0  \n",
      "11    01/05/2023                2 weeks          1.0  \n",
      "12    05/05/2023                2 weeks          2.0  \n",
      "13    07/05/2023                2 weeks          3.0  \n",
      "14    10/05/2023                2 weeks          9.0  \n",
      "15    01/06/2023                2 weeks          2.0  \n",
      "16    04/06/2023                2 weeks          3.0  \n",
      "17    07/06/2023                2 weeks          5.0  \n",
      "18    10/07/2023                2 weeks         10.0  \n",
      "19    20/06/2023                2 weeks          2.0  \n"
     ]
    }
   ],
   "source": [
    "print(df)"
   ]
  },
  {
   "cell_type": "code",
   "execution_count": 129,
   "metadata": {},
   "outputs": [
    {
     "name": "stdout",
     "output_type": "stream",
     "text": [
      "object\n"
     ]
    }
   ],
   "source": [
    "print(df[\"Book checkout\"].dtype)"
   ]
  },
  {
   "cell_type": "code",
   "execution_count": 132,
   "metadata": {},
   "outputs": [],
   "source": [
    "df[\"Book checkout\"] = pd.to_datetime(df[\"Book checkout\"], dayfirst = True, errors='coerce')"
   ]
  },
  {
   "cell_type": "code",
   "execution_count": 133,
   "metadata": {},
   "outputs": [
    {
     "name": "stdout",
     "output_type": "stream",
     "text": [
      "      Id                                     Books Book checkout  \\\n",
      "0    1.0                       Catcher in the Rye     2023-02-20   \n",
      "1    2.0          Lord of the rings the two towers    2023-03-24   \n",
      "2    3.0  Lord of the rings the return of the kind    2023-03-29   \n",
      "3    4.0                                The hobbit    2023-04-02   \n",
      "4    5.0                                     Dune     2023-04-02   \n",
      "5    6.0                              Little Women    2023-04-02   \n",
      "6    7.0                                        IT    2063-04-10   \n",
      "7    8.0                                   Misery     2023-04-15   \n",
      "8    9.0                                  Catch 22    2023-04-15   \n",
      "9   10.0                              Animal Farm     2023-04-20   \n",
      "10  11.0                                      1984    2023-04-23   \n",
      "11  12.0                              Little Women    2023-04-02   \n",
      "12  13.0                              East of Eden    2023-04-30   \n",
      "13  14.0                   America Is in the Heart    2023-05-01   \n",
      "14  15.0                         Wuthering Heights    2023-05-01   \n",
      "15  16.0                                Dark Tales    2023-05-15   \n",
      "16  17.0                        The Bloody Chamber           NaT   \n",
      "17  18.0                            Les Miserables    2023-06-03   \n",
      "18  19.0                                   Dracula    2023-06-10   \n",
      "19  20.0                              Frankenstein    2023-06-01   \n",
      "\n",
      "   Book Returned Days allowed to borrow  Customer ID  \n",
      "0     25/02/2023                2 weeks          1.0  \n",
      "1     21/03/2023                2 weeks          2.0  \n",
      "2     25/03/2023                2 weeks          3.0  \n",
      "3     25/03/2023                2 weeks          4.0  \n",
      "4     25/03/2023                2 weeks          5.0  \n",
      "5     01/05/2023                2 weeks          1.0  \n",
      "6     03/04/2023                2 weeks          6.0  \n",
      "7     03/04/2023                2 weeks          7.0  \n",
      "8     16/04/2023                2 weeks          7.0  \n",
      "9     24/04/2023                2 weeks          2.0  \n",
      "10    27/04/2023                2 weeks          8.0  \n",
      "11    01/05/2023                2 weeks          1.0  \n",
      "12    05/05/2023                2 weeks          2.0  \n",
      "13    07/05/2023                2 weeks          3.0  \n",
      "14    10/05/2023                2 weeks          9.0  \n",
      "15    01/06/2023                2 weeks          2.0  \n",
      "16    04/06/2023                2 weeks          3.0  \n",
      "17    07/06/2023                2 weeks          5.0  \n",
      "18    10/07/2023                2 weeks         10.0  \n",
      "19    20/06/2023                2 weeks          2.0  \n"
     ]
    }
   ],
   "source": [
    "print(df)\n"
   ]
  },
  {
   "cell_type": "code",
   "execution_count": 134,
   "metadata": {},
   "outputs": [],
   "source": [
    "df[\"Book Returned\"] = pd.to_datetime(df[\"Book Returned\"], dayfirst=True, errors='coerce')"
   ]
  },
  {
   "cell_type": "code",
   "execution_count": 135,
   "metadata": {},
   "outputs": [
    {
     "name": "stdout",
     "output_type": "stream",
     "text": [
      "      Id                                     Books Book checkout  \\\n",
      "0    1.0                       Catcher in the Rye     2023-02-20   \n",
      "1    2.0          Lord of the rings the two towers    2023-03-24   \n",
      "2    3.0  Lord of the rings the return of the kind    2023-03-29   \n",
      "3    4.0                                The hobbit    2023-04-02   \n",
      "4    5.0                                     Dune     2023-04-02   \n",
      "5    6.0                              Little Women    2023-04-02   \n",
      "6    7.0                                        IT    2063-04-10   \n",
      "7    8.0                                   Misery     2023-04-15   \n",
      "8    9.0                                  Catch 22    2023-04-15   \n",
      "9   10.0                              Animal Farm     2023-04-20   \n",
      "10  11.0                                      1984    2023-04-23   \n",
      "11  12.0                              Little Women    2023-04-02   \n",
      "12  13.0                              East of Eden    2023-04-30   \n",
      "13  14.0                   America Is in the Heart    2023-05-01   \n",
      "14  15.0                         Wuthering Heights    2023-05-01   \n",
      "15  16.0                                Dark Tales    2023-05-15   \n",
      "16  17.0                        The Bloody Chamber           NaT   \n",
      "17  18.0                            Les Miserables    2023-06-03   \n",
      "18  19.0                                   Dracula    2023-06-10   \n",
      "19  20.0                              Frankenstein    2023-06-01   \n",
      "\n",
      "   Book Returned Days allowed to borrow  Customer ID  \n",
      "0     2023-02-25                2 weeks          1.0  \n",
      "1     2023-03-21                2 weeks          2.0  \n",
      "2     2023-03-25                2 weeks          3.0  \n",
      "3     2023-03-25                2 weeks          4.0  \n",
      "4     2023-03-25                2 weeks          5.0  \n",
      "5     2023-05-01                2 weeks          1.0  \n",
      "6     2023-04-03                2 weeks          6.0  \n",
      "7     2023-04-03                2 weeks          7.0  \n",
      "8     2023-04-16                2 weeks          7.0  \n",
      "9     2023-04-24                2 weeks          2.0  \n",
      "10    2023-04-27                2 weeks          8.0  \n",
      "11    2023-05-01                2 weeks          1.0  \n",
      "12    2023-05-05                2 weeks          2.0  \n",
      "13    2023-05-07                2 weeks          3.0  \n",
      "14    2023-05-10                2 weeks          9.0  \n",
      "15    2023-06-01                2 weeks          2.0  \n",
      "16    2023-06-04                2 weeks          3.0  \n",
      "17    2023-06-07                2 weeks          5.0  \n",
      "18    2023-07-10                2 weeks         10.0  \n",
      "19    2023-06-20                2 weeks          2.0  \n"
     ]
    }
   ],
   "source": [
    "print(df)\n"
   ]
  },
  {
   "cell_type": "code",
   "execution_count": 136,
   "metadata": {},
   "outputs": [],
   "source": [
    "import os"
   ]
  },
  {
   "cell_type": "code",
   "execution_count": 139,
   "metadata": {},
   "outputs": [
    {
     "name": "stdout",
     "output_type": "stream",
     "text": [
      "C:\\Users\\Admin\\Desktop\\Data-Engineering-Product-Development\\python_app\\03_library System_Customers_Cleaned.csv\n",
      "C:\\Users\\Admin\\Desktop\\Data-Engineering-Product-Development\\python_app\\03_Library Systembook_Cleaned.csv\n"
     ]
    }
   ],
   "source": [
    "output_folder = r\"C:\\Users\\Admin\\Desktop\\Data-Engineering-Product-Development\\python_app\"\n",
    "file_path_1 = os.path.join(output_folder, \"03_library System_Customers_Cleaned.csv\")\n",
    "file_path_2 = os.path.join(output_folder,\"03_Library Systembook_Cleaned.csv\")\n",
    "\n",
    "df2.to_csv(file_path_1, index=False)\n",
    "df.to_csv(file_path_2, index=False)\n",
    "\n",
    "print(file_path_1)\n",
    "print(file_path_2)"
   ]
  },
  {
   "cell_type": "code",
   "execution_count": 140,
   "metadata": {},
   "outputs": [
    {
     "name": "stdout",
     "output_type": "stream",
     "text": [
      "Requirement already satisfied: sqlalchemy in c:\\programdata\\anaconda3\\lib\\site-packages (2.0.25)\n",
      "Requirement already satisfied: pyodbc in c:\\programdata\\anaconda3\\lib\\site-packages (5.0.1)\n",
      "Requirement already satisfied: typing-extensions>=4.6.0 in c:\\programdata\\anaconda3\\lib\\site-packages (from sqlalchemy) (4.9.0)\n",
      "Requirement already satisfied: greenlet!=0.4.17 in c:\\programdata\\anaconda3\\lib\\site-packages (from sqlalchemy) (3.0.1)\n",
      "Note: you may need to restart the kernel to use updated packages.\n"
     ]
    }
   ],
   "source": [
    "pip install sqlalchemy pyodbc"
   ]
  },
  {
   "cell_type": "code",
   "execution_count": 141,
   "metadata": {},
   "outputs": [
    {
     "ename": "ImportError",
     "evalue": "cannot import name 'create_engin' from 'sqlalchemy' (c:\\ProgramData\\anaconda3\\Lib\\site-packages\\sqlalchemy\\__init__.py)",
     "output_type": "error",
     "traceback": [
      "\u001b[1;31m---------------------------------------------------------------------------\u001b[0m",
      "\u001b[1;31mImportError\u001b[0m                               Traceback (most recent call last)",
      "Cell \u001b[1;32mIn[141], line 1\u001b[0m\n\u001b[1;32m----> 1\u001b[0m \u001b[38;5;28;01mfrom\u001b[39;00m \u001b[38;5;21;01msqlalchemy\u001b[39;00m \u001b[38;5;28;01mimport\u001b[39;00m create_engin\n",
      "\u001b[1;31mImportError\u001b[0m: cannot import name 'create_engin' from 'sqlalchemy' (c:\\ProgramData\\anaconda3\\Lib\\site-packages\\sqlalchemy\\__init__.py)"
     ]
    }
   ],
   "source": [
    "from sqlalchemy import create_engin"
   ]
  },
  {
   "cell_type": "code",
   "execution_count": 142,
   "metadata": {},
   "outputs": [],
   "source": [
    "from sqlalchemy import create_engine"
   ]
  },
  {
   "cell_type": "code",
   "execution_count": 144,
   "metadata": {},
   "outputs": [],
   "source": [
    "server = \"localhost\"\n",
    "database = \"python_app\"\n",
    "driver = \"ODBC Driver 17 for SQL Server\"\n",
    "\n",
    "connection_string = f\"mssql+pyodbc://@{server}/{database}?driver={driver}\"\n",
    "engine = create_engine(connection_string)"
   ]
  },
  {
   "cell_type": "code",
   "execution_count": null,
   "metadata": {},
   "outputs": [],
   "source": [
    "import pandas as pd\n",
    "\n",
    "df_customers = pd.read_csv(r\"C:\\Users\\Admin\\Desktop\\Data-Engineering-Product-Development\\python_app\\03_library System_Customers_Cleaned.csv\")\n",
    "df_books = pd.read_csv(r\"C:\\Users\\Admin\\Desktop\\Data-Engineering-Product-Development\\python_app\\03_Library Systembook_Cleaned.csv\")\n"
   ]
  },
  {
   "cell_type": "code",
   "execution_count": 148,
   "metadata": {},
   "outputs": [
    {
     "data": {
      "text/plain": [
       "20"
      ]
     },
     "execution_count": 148,
     "metadata": {},
     "output_type": "execute_result"
    }
   ],
   "source": [
    "df_customers.to_sql('LibraryCustomers', con=engine, if_exists='replace', index=False)\n",
    "df_books.to_sql(\"libraryBooks\", con=engine, if_exists='replace', index=False)"
   ]
  },
  {
   "cell_type": "code",
   "execution_count": null,
   "metadata": {},
   "outputs": [],
   "source": []
  }
 ],
 "metadata": {
  "kernelspec": {
   "display_name": "base",
   "language": "python",
   "name": "python3"
  },
  "language_info": {
   "codemirror_mode": {
    "name": "ipython",
    "version": 3
   },
   "file_extension": ".py",
   "mimetype": "text/x-python",
   "name": "python",
   "nbconvert_exporter": "python",
   "pygments_lexer": "ipython3",
   "version": "3.11.7"
  }
 },
 "nbformat": 4,
 "nbformat_minor": 2
}
